{
 "cells": [
  {
   "cell_type": "code",
   "execution_count": 1,
   "metadata": {},
   "outputs": [],
   "source": [
    "import os\n",
    "import sys\n",
    "parent_dir = os.path.join(os.getcwd(), '..')\n",
    "if parent_dir not in sys.path: sys.path.append(parent_dir)\n",
    "from utility import *\n",
    "from mkit.torch_support.nn_utils import training_loop"
   ]
  },
  {
   "cell_type": "code",
   "execution_count": 2,
   "metadata": {},
   "outputs": [],
   "source": [
    "import matplotlib.pyplot as plt"
   ]
  },
  {
   "cell_type": "code",
   "execution_count": 3,
   "metadata": {},
   "outputs": [
    {
     "name": "stdout",
     "output_type": "stream",
     "text": [
      "original dataset size: 238\n",
      "dataset size with duplicates removed: 172\n"
     ]
    },
    {
     "data": {
      "text/plain": [
       "(48, 64)"
      ]
     },
     "execution_count": 3,
     "metadata": {},
     "output_type": "execute_result"
    }
   ],
   "source": [
    "files = get_files(\"../Travel-Itinerary-Datasets-for-Japan-and-Taiwan-sourced-from-Ptt\")\n",
    "return_list = []\n",
    "file = files[0]\n",
    "path_name = process_and_transform_data(file, resolution=.5, overwrite=True)\n",
    "with open(path_name, 'rb') as f:\n",
    "    result_dict = pickle.load(f)\n",
    "labels = result_dict['labels']\n",
    "encoder = result_dict['encoder']\n",
    "MAX_LEN = result_dict['max length']\n",
    "file_name = result_dict['file name']\n",
    "WIDTH = result_dict['width']\n",
    "HEIGHT = result_dict['height']\n",
    "WIDTH, HEIGHT"
   ]
  },
  {
   "cell_type": "code",
   "execution_count": 4,
   "metadata": {},
   "outputs": [],
   "source": [
    "x_list = []\n",
    "y_list = []\n",
    "y_seq_list = []\n",
    "y_one_hot_list = []\n",
    "for observation in labels:\n",
    "    unique_values = np.unique(observation)[1:]\n",
    "    if len(unique_values) == 1: continue\n",
    "    unique_values = np.sort(unique_values)\n",
    "\n",
    "    half = len(unique_values) // 2\n",
    "    x = deepcopy(observation)\n",
    "    y = deepcopy(observation)\n",
    "    y_seq = []\n",
    "    y_one_hot = deepcopy(observation)\n",
    "    y_one_hot[np.where(y_one_hot != 0)] = 1\n",
    "    for val in unique_values:\n",
    "        index = np.where(observation == val)\n",
    "        coor = encoder.single_transform(tuple([index[0][0], index[1][0]]))\n",
    "        if val > half:\n",
    "            x[index] = 0\n",
    "            y_seq.append(coor)\n",
    "            \n",
    "        else:\n",
    "            x[index] = 1\n",
    "            y_one_hot[index] = 0\n",
    "            y[index] = 0\n",
    "    y = y / max(unique_values)\n",
    "    y_seq += [0] * (MAX_LEN - len(y_seq))\n",
    "\n",
    "    y_one_hot = y_one_hot.flatten()\n",
    "    x_list.append(x)\n",
    "    y_list.append(y)\n",
    "    y_one_hot_list.append(y_one_hot)\n",
    "    y_seq_list.append(y_seq)\n",
    "    "
   ]
  },
  {
   "cell_type": "code",
   "execution_count": 5,
   "metadata": {},
   "outputs": [],
   "source": [
    "from mkit.torch_support.tensor_utils import xy_to_tensordataset\n",
    "loader, val_loader, test_loader = xy_to_tensordataset(\n",
    "    np.expand_dims(np.array(x_list), 1), np.expand_dims(np.array(y_list), 1),\n",
    "    return_loader=True, \n",
    "    batch_size=8,\n",
    "    input_dtype=torch.float32,\n",
    "    output_dtype=torch.float32,\n",
    "    val_ratio=.15,\n",
    "    test_ratio=.15\n",
    ")"
   ]
  },
  {
   "cell_type": "code",
   "execution_count": 6,
   "metadata": {},
   "outputs": [
    {
     "name": "stderr",
     "output_type": "stream",
     "text": [
      "EPOCH 1/10: 100%|██████████| 15/15 [00:00<00:00, 16.21it/s]\n"
     ]
    },
    {
     "name": "stdout",
     "output_type": "stream",
     "text": [
      "Epoch [1/10] Training Loss: 0.0014  Validation Loss: 0.0008\n",
      "\n"
     ]
    },
    {
     "name": "stderr",
     "output_type": "stream",
     "text": [
      "EPOCH 2/10: 100%|██████████| 15/15 [00:00<00:00, 66.83it/s]\n"
     ]
    },
    {
     "name": "stdout",
     "output_type": "stream",
     "text": [
      "Epoch [2/10] Training Loss: 0.0008  Validation Loss: 0.0005\n",
      "\n"
     ]
    },
    {
     "name": "stderr",
     "output_type": "stream",
     "text": [
      "EPOCH 3/10: 100%|██████████| 15/15 [00:00<00:00, 63.10it/s]\n"
     ]
    },
    {
     "name": "stdout",
     "output_type": "stream",
     "text": [
      "Epoch [3/10] Training Loss: 0.0007  Validation Loss: 0.0006\n",
      "\n"
     ]
    },
    {
     "name": "stderr",
     "output_type": "stream",
     "text": [
      "EPOCH 4/10: 100%|██████████| 15/15 [00:00<00:00, 73.67it/s]\n"
     ]
    },
    {
     "name": "stdout",
     "output_type": "stream",
     "text": [
      "Epoch [4/10] Training Loss: 0.0006  Validation Loss: 0.0004\n",
      "\n"
     ]
    },
    {
     "name": "stderr",
     "output_type": "stream",
     "text": [
      "EPOCH 5/10: 100%|██████████| 15/15 [00:00<00:00, 72.26it/s]\n"
     ]
    },
    {
     "name": "stdout",
     "output_type": "stream",
     "text": [
      "Epoch [5/10] Training Loss: 0.0005  Validation Loss: 0.0004\n",
      "\n"
     ]
    },
    {
     "name": "stderr",
     "output_type": "stream",
     "text": [
      "EPOCH 6/10: 100%|██████████| 15/15 [00:00<00:00, 73.66it/s]\n"
     ]
    },
    {
     "name": "stdout",
     "output_type": "stream",
     "text": [
      "Epoch [6/10] Training Loss: 0.0004  Validation Loss: 0.0005\n",
      "\n"
     ]
    },
    {
     "name": "stderr",
     "output_type": "stream",
     "text": [
      "EPOCH 7/10: 100%|██████████| 15/15 [00:00<00:00, 70.66it/s]\n"
     ]
    },
    {
     "name": "stdout",
     "output_type": "stream",
     "text": [
      "Epoch [7/10] Training Loss: 0.0004  Validation Loss: 0.0005\n",
      "\n"
     ]
    },
    {
     "name": "stderr",
     "output_type": "stream",
     "text": [
      "EPOCH 8/10: 100%|██████████| 15/15 [00:00<00:00, 72.60it/s]\n"
     ]
    },
    {
     "name": "stdout",
     "output_type": "stream",
     "text": [
      "Epoch [8/10] Training Loss: 0.0004  Validation Loss: 0.0005\n",
      "\n"
     ]
    },
    {
     "name": "stderr",
     "output_type": "stream",
     "text": [
      "EPOCH 9/10: 100%|██████████| 15/15 [00:00<00:00, 67.57it/s]\n"
     ]
    },
    {
     "name": "stdout",
     "output_type": "stream",
     "text": [
      "Epoch [9/10] Training Loss: 0.0004  Validation Loss: 0.0005\n",
      "\n"
     ]
    },
    {
     "name": "stderr",
     "output_type": "stream",
     "text": [
      "EPOCH 10/10: 100%|██████████| 15/15 [00:00<00:00, 73.83it/s]"
     ]
    },
    {
     "name": "stdout",
     "output_type": "stream",
     "text": [
      "Epoch [10/10] Training Loss: 0.0004  Validation Loss: 0.0005\n",
      "\n",
      "Training complete.\n"
     ]
    },
    {
     "name": "stderr",
     "output_type": "stream",
     "text": [
      "\n"
     ]
    }
   ],
   "source": [
    "import torch\n",
    "from torch import nn\n",
    "class AE(nn.Module):\n",
    "    def __init__(\n",
    "            self, \n",
    "            input_dim=1, \n",
    "            start_dim=32,\n",
    "            number_of_layers = 3,\n",
    "            device = torch.device(\"cuda\" if torch.cuda.is_available() else \"cpu\")\n",
    "        ):\n",
    "        super(AE, self).__init__()\n",
    "        self.encoder = [self._block(input_dim, start_dim)]\n",
    "        current_dim = start_dim\n",
    "        for i in range(number_of_layers - 1):\n",
    "            self.encoder.append(self._block(current_dim, current_dim // 2))\n",
    "            current_dim //= 2\n",
    "        self.decoder = []\n",
    "        for i in range(number_of_layers - 1):\n",
    "            self.decoder.append(self._block(current_dim, current_dim * 2))\n",
    "            current_dim *= 2\n",
    "        self.decoder.append(nn.Conv2d(current_dim, input_dim, padding=1, kernel_size=3))\n",
    "        self.encoder = nn.Sequential(*self.encoder)\n",
    "        self.decoder = nn.Sequential(*self.decoder)\n",
    "        self.to(device)\n",
    "        self.device = device\n",
    "    def _block(self, input_dim, output_dim):\n",
    "        return nn.Sequential(\n",
    "            nn.Conv2d(input_dim, output_dim, padding=1, kernel_size=3),\n",
    "            nn.BatchNorm2d(output_dim),\n",
    "            nn.LeakyReLU(.2)\n",
    "        )\n",
    "    def forward(self, x):\n",
    "        x = x.to(self.device)\n",
    "        x = self.encoder(x)\n",
    "        x = self.decoder(x)\n",
    "        return x\n",
    "    \n",
    "ae = AE()\n",
    "class weighted_loss(nn.Module):\n",
    "    def __init__(self):\n",
    "        super(weighted_loss, self).__init__()\n",
    "    def forward(self, pred, true, weight=1):\n",
    "        weights = torch.where(true != 0, weight, .01)\n",
    "        return torch.mean(weights * torch.abs(pred - true))\n",
    "model, train_losses, val_losses = training_loop(\n",
    "    model=ae,\n",
    "    train_loader=loader,\n",
    "    val_loader=val_loader,\n",
    "    epochs=10,\n",
    "    device=ae.device,\n",
    "    criterion=weighted_loss(),\n",
    "    optimizer=torch.optim.Adam(ae.parameters(), lr=1e-3),\n",
    "    keep_losses=True\n",
    ")\n",
    "\n"
   ]
  },
  {
   "cell_type": "code",
   "execution_count": 7,
   "metadata": {},
   "outputs": [],
   "source": [
    "# pred[0][0]"
   ]
  },
  {
   "cell_type": "code",
   "execution_count": 8,
   "metadata": {},
   "outputs": [
    {
     "data": {
      "image/png": "[encoded data removed]",
      "text/plain": [
       "<Figure size 640x480 with 1 Axes>"
      ]
     },
     "metadata": {},
     "output_type": "display_data"
    },
    {
     "data": {
      "image/png": "[encoded data removed]",
      "text/plain": [
       "<Figure size 640x480 with 1 Axes>"
      ]
     },
     "metadata": {},
     "output_type": "display_data"
    }
   ],
   "source": [
    "test_x, test_y = next(iter(test_loader))\n",
    "pred = ae(test_x).detach().cpu()\n",
    "\n",
    "plt.imshow(pred[1][0])\n",
    "plt.show()\n",
    "plt.imshow(test_y[1][0])\n",
    "plt.show()"
   ]
  }
 ],
 "metadata": {
  "kernelspec": {
   "display_name": "base",
   "language": "python",
   "name": "python3"
  },
  "language_info": {
   "codemirror_mode": {
    "name": "ipython",
    "version": 3
   },
   "file_extension": ".py",
   "mimetype": "text/x-python",
   "name": "python",
   "nbconvert_exporter": "python",
   "pygments_lexer": "ipython3",
   "version": "3.11.5"
  }
 },
 "nbformat": 4,
 "nbformat_minor": 2
}
