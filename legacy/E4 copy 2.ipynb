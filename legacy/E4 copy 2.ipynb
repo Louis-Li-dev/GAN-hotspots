{
 "cells": [
  {
   "cell_type": "code",
   "execution_count": 1,
   "metadata": {},
   "outputs": [],
   "source": [
    "# %pip install tqdm\n",
    "# %pip install python-dotenv\n",
    "# %pip install torch==2.4.0+cu118\n",
    "# %pip install scikit_learn==1.2.2\n",
    "# %pip install ipython\n",
    "# %pip install pandas\n",
    "# %pip install numpy\n",
    "# %pip install matplotlib\n",
    "# %pip install tabulate\n",
    "# %pip install scipy\n",
    "# %pip install git+https://github.com/Louis-Li-dev/ML_tool_kit"
   ]
  },
  {
   "cell_type": "code",
   "execution_count": 2,
   "metadata": {},
   "outputs": [],
   "source": [
    "import os\n",
    "import sys\n",
    "parent_dir = os.path.join(os.getcwd(), '..')\n",
    "if parent_dir not in sys.path: sys.path.append(parent_dir)\n",
    "from utility.data_utils import *\n",
    "from utility.visuals import *\n",
    "from dotenv import load_dotenv\n",
    "from model.CNN import ConditionalSegmentationVAE\n",
    "from mkit.torch_support.tensor_utils import xy_to_tensordataset\n",
    "from torch import nn\n",
    "from IPython.display import clear_output\n",
    "from sklearn.ensemble import RandomForestRegressor\n",
    "load_dotenv()\n",
    "DATA_DIR = os.getenv(\"DATA_DIR\")"
   ]
  },
  {
   "cell_type": "markdown",
   "metadata": {},
   "source": [
    "- Dataset"
   ]
  },
  {
   "cell_type": "code",
   "execution_count": 3,
   "metadata": {},
   "outputs": [],
   "source": [
    "if not os.path.exists(DATA_DIR): raise FileNotFoundError(\"Make sure the data directory is correctly placed.\")"
   ]
  },
  {
   "cell_type": "code",
   "execution_count": 4,
   "metadata": {},
   "outputs": [
    {
     "name": "stdout",
     "output_type": "stream",
     "text": [
      "original dataset size: 238\n",
      "dataset size with duplicates removed: 172\n"
     ]
    }
   ],
   "source": [
    "files = get_files(DATA_DIR)\n",
    "\n",
    "return_list = []\n",
    "file = files[0]\n",
    "city_name = file.split('\\\\')[-1].split('.csv')[0].split('_')[0]\n",
    "\n",
    "path_name = process_and_transform_data(file, resolution=.5, overwrite=True)\n",
    "with open(path_name, 'rb') as f:\n",
    "    result_dict = pickle.load(f)\n",
    "labels = result_dict['labels']\n",
    "encoder = result_dict['encoder']\n",
    "MAX_LEN = result_dict['max length']\n",
    "file_name = result_dict['file name']\n",
    "WIDTH = result_dict['width']\n",
    "HEIGHT = result_dict['height']"
   ]
  },
  {
   "cell_type": "code",
   "execution_count": 5,
   "metadata": {},
   "outputs": [],
   "source": [
    "# for idx, label in enumerate(labels):\n",
    "#     plt.imshow(labels[idx])\n",
    "#     plt.savefig(f'../fig/{idx}_{file_name}.png')\n",
    "#     plt.show()\n"
   ]
  },
  {
   "cell_type": "markdown",
   "metadata": {},
   "source": [
    "- x y splitting"
   ]
  },
  {
   "cell_type": "code",
   "execution_count": 6,
   "metadata": {},
   "outputs": [],
   "source": [
    "from sklearn.model_selection import train_test_split\n",
    "\n",
    "\n",
    "unique_labels = [u for u in labels if np.array(np.where(u != 0)).T.shape[0] > 1]\n",
    "padded_labels = []\n",
    "for label in unique_labels:\n",
    "    unique_vals = np.unique(label)[1:]\n",
    "    new_vals = []\n",
    "    count = 0\n",
    "    for val in unique_vals:    \n",
    "        dummy_vals = np.zeros(label.shape)\n",
    "        dummy_vals[np.where(label == val)] = 1\n",
    "        new_vals.append(dummy_vals)\n",
    "        count += 1\n",
    "    for i in range(count, MAX_LEN):\n",
    "        dummy_vals = np.zeros(label.shape)\n",
    "        new_vals.append(dummy_vals)\n",
    "    new_vals = np.array(new_vals)\n",
    "    padded_labels.append(new_vals)\n",
    "train_labels, test_labels = train_test_split(padded_labels, test_size=.2)\n"
   ]
  },
  {
   "cell_type": "code",
   "execution_count": 7,
   "metadata": {},
   "outputs": [],
   "source": [
    "import torch\n",
    "import torch.nn as nn\n",
    "\n",
    "class Encoder(nn.Module):\n",
    "    def __init__(self, input_channels, img_width, img_height, start_dim, n_layers, latent_dim):\n",
    "        \"\"\"\n",
    "        Fully Connected Encoder.\n",
    "\n",
    "        Args:\n",
    "            input_channels (int): Number of input channels (here, max_len).\n",
    "            img_width (int): Image width.\n",
    "            img_height (int): Image height.\n",
    "            start_dim (int): Size of the first hidden layer.\n",
    "            n_layers (int): Number of hidden layers (each doubling the previous size).\n",
    "            latent_dim (int): Size of the latent representation.\n",
    "        \"\"\"\n",
    "        super(Encoder, self).__init__()\n",
    "        # The input is flattened: (B, max_len, W, H) -> (B, max_len*W*H)\n",
    "        input_size = input_channels * img_width * img_height\n",
    "        layers = []\n",
    "        # First layer: from flattened input to start_dim\n",
    "        layers.append(nn.Linear(input_size, start_dim))\n",
    "        layers.append(nn.Mish())\n",
    "        hidden_dim = start_dim\n",
    "        # Add n_layers that double the hidden size at each layer\n",
    "        for _ in range(n_layers):\n",
    "            next_dim = hidden_dim * 2\n",
    "            layers.append(nn.Linear(hidden_dim, next_dim))\n",
    "            layers.append(nn.Mish())\n",
    "            hidden_dim = next_dim\n",
    "        # Final layer: latent representation\n",
    "        layers.append(nn.Linear(hidden_dim, latent_dim))\n",
    "        self.encoder = nn.Sequential(*layers)\n",
    "\n",
    "    def forward(self, x):\n",
    "        # x is expected to have shape: (B, max_len, width, height)\n",
    "        x = x.view(x.size(0), -1)  # Flatten to (B, max_len*width*height)\n",
    "        return self.encoder(x)\n",
    "\n",
    "class Decoder(nn.Module):\n",
    "    def __init__(self, output_channels, img_width, img_height, start_dim, n_layers, latent_dim):\n",
    "        \"\"\"\n",
    "        Fully Connected Decoder.\n",
    "\n",
    "        Args:\n",
    "            output_channels (int): Number of output channels (should match input_channels).\n",
    "            img_width (int): Image width.\n",
    "            img_height (int): Image height.\n",
    "            start_dim (int): Should match the start_dim used in the encoder.\n",
    "            n_layers (int): Number of hidden layers (used in encoder, in reverse order here).\n",
    "            latent_dim (int): Size of the latent representation.\n",
    "        \"\"\"\n",
    "        super(Decoder, self).__init__()\n",
    "        # The output will be reshaped into (B, output_channels, img_width, img_height)\n",
    "        output_size = output_channels * img_width * img_height\n",
    "        layers = []\n",
    "        # For symmetry, assume the encoder’s last hidden dimension was start_dim * (2 ** n_layers)\n",
    "        hidden_dim = start_dim * (2 ** n_layers)\n",
    "        # First layer: from latent_dim to hidden_dim\n",
    "        layers.append(nn.Linear(latent_dim, hidden_dim))\n",
    "        layers.append(nn.Mish())\n",
    "        # Then, for each layer, halve the hidden dimension\n",
    "        for _ in range(n_layers):\n",
    "            next_dim = hidden_dim // 2\n",
    "            layers.append(nn.Linear(hidden_dim, next_dim))\n",
    "            layers.append(nn.Mish())\n",
    "            hidden_dim = next_dim\n",
    "        # Final layer: output layer to reconstruct the flattened image\n",
    "        layers.append(nn.Linear(hidden_dim, output_size))\n",
    "        layers.append(nn.Sigmoid())  # Ensures the output values are between 0 and 1\n",
    "        self.decoder = nn.Sequential(*layers)\n",
    "        self.output_channels = output_channels\n",
    "        self.img_width = img_width\n",
    "        self.img_height = img_height\n",
    "\n",
    "    def forward(self, z):\n",
    "        x = self.decoder(z)\n",
    "        # Reshape back to image dimensions: (B, output_channels, img_width, img_height)\n",
    "        x = x.view(x.size(0), self.output_channels, self.img_width, self.img_height)\n",
    "        return x\n",
    "\n",
    "class Autoencoder(nn.Module):\n",
    "    def __init__(self, input_channels, img_width, img_height, start_dim, n_layers, latent_dim, output_channels):\n",
    "        \"\"\"\n",
    "        Fully Connected Autoencoder (combining the encoder and decoder).\n",
    "\n",
    "        Args:\n",
    "            input_channels (int): Number of input channels (here, max_len).\n",
    "            img_width (int): Image width.\n",
    "            img_height (int): Image height.\n",
    "            start_dim (int): The size of the first hidden layer.\n",
    "            n_layers (int): Number of hidden layers.\n",
    "            latent_dim (int): Size of the latent representation.\n",
    "            output_channels (int): Number of output channels (should match input_channels).\n",
    "        \"\"\"\n",
    "        super(Autoencoder, self).__init__()\n",
    "        self.encoder = Encoder(input_channels, img_width, img_height, start_dim, n_layers, latent_dim)\n",
    "        self.decoder = Decoder(output_channels, img_width, img_height, start_dim, n_layers, latent_dim)\n",
    "\n",
    "    def forward(self, x):\n",
    "        encoded = self.encoder(x)\n",
    "        decoded = self.decoder(encoded)\n",
    "        return decoded\n",
    "\n",
    "def generate(input_channels, img_width, img_height, start_dim, n_layers, latent_dim, output_channels, device=\"cpu\", output_type=\"autoencoder\"):\n",
    "    \"\"\"\n",
    "    Creates an encoder, decoder, or autoencoder model based on user input.\n",
    "\n",
    "    Args:\n",
    "        input_channels (int): Number of input channels (here, max_len).\n",
    "        img_width (int): Image width.\n",
    "        img_height (int): Image height.\n",
    "        start_dim (int): The size of the first hidden layer.\n",
    "        n_layers (int): Number of hidden layers (each doubling the dimension in the encoder).\n",
    "        latent_dim (int): Size of the latent representation.\n",
    "        output_channels (int): Number of output channels (should match input_channels).\n",
    "        device (str): 'cpu' or 'cuda'.\n",
    "        output_type (str): 'encoder', 'decoder', or 'autoencoder'.\n",
    "\n",
    "    Returns:\n",
    "        A PyTorch model on the selected device.\n",
    "    \"\"\"\n",
    "    device = torch.device(device)\n",
    "    if output_type == \"encoder\":\n",
    "        model = Encoder(input_channels, img_width, img_height, start_dim, n_layers, latent_dim)\n",
    "    elif output_type == \"decoder\":\n",
    "        model = Decoder(output_channels, img_width, img_height, start_dim, n_layers, latent_dim)\n",
    "    elif output_type == \"autoencoder\":\n",
    "        model = Autoencoder(input_channels, img_width, img_height, start_dim, n_layers, latent_dim, output_channels)\n",
    "    else:\n",
    "        raise ValueError(\"Invalid output_type. Choose from 'encoder', 'decoder', or 'autoencoder'.\")\n",
    "    return model.to(device)\n"
   ]
  },
  {
   "cell_type": "markdown",
   "metadata": {},
   "source": [
    "- data processing"
   ]
  },
  {
   "cell_type": "code",
   "execution_count": 8,
   "metadata": {},
   "outputs": [
    {
     "name": "stderr",
     "output_type": "stream",
     "text": [
      "c:\\Users\\ss348\\anaconda3\\Lib\\site-packages\\mkit\\torch_support\\tensor_utils.py:438: UserWarning: Creating a tensor from a list of numpy.ndarrays is extremely slow. Please consider converting the list to a single numpy.ndarray with numpy.array() before converting to a tensor. (Triggered internally at C:\\actions-runner\\_work\\pytorch\\pytorch\\builder\\windows\\pytorch\\torch\\csrc\\utils\\tensor_new.cpp:281.)\n",
      "  return torch.tensor(arr)\n"
     ]
    }
   ],
   "source": [
    "\n",
    "loader, val_loader = xy_to_tensordataset(\n",
    "    train_labels, train_labels,\n",
    "    return_loader=True, \n",
    "    batch_size=8,\n",
    "    input_dtype=torch.float32,\n",
    "    output_dtype=torch.float32,\n",
    "    val_ratio=.15,\n",
    ")"
   ]
  },
  {
   "cell_type": "code",
   "execution_count": null,
   "metadata": {},
   "outputs": [],
   "source": []
  },
  {
   "cell_type": "code",
   "execution_count": 9,
   "metadata": {},
   "outputs": [
    {
     "name": "stderr",
     "output_type": "stream",
     "text": [
      "EPOCH 1/100: 100%|██████████| 15/15 [00:00<00:00, 20.57it/s]\n"
     ]
    },
    {
     "name": "stdout",
     "output_type": "stream",
     "text": [
      "Epoch [1/100] Training Loss: 0.3911  Validation Loss: 0.0637\n",
      "\n"
     ]
    },
    {
     "name": "stderr",
     "output_type": "stream",
     "text": [
      "EPOCH 2/100: 100%|██████████| 15/15 [00:00<00:00, 43.26it/s]\n"
     ]
    },
    {
     "name": "stdout",
     "output_type": "stream",
     "text": [
      "Epoch [2/100] Training Loss: 0.0136  Validation Loss: 0.0019\n",
      "\n"
     ]
    },
    {
     "name": "stderr",
     "output_type": "stream",
     "text": [
      "EPOCH 3/100: 100%|██████████| 15/15 [00:00<00:00, 48.20it/s]\n"
     ]
    },
    {
     "name": "stdout",
     "output_type": "stream",
     "text": [
      "Epoch [3/100] Training Loss: 0.0014  Validation Loss: 0.0015\n",
      "\n"
     ]
    },
    {
     "name": "stderr",
     "output_type": "stream",
     "text": [
      "EPOCH 4/100: 100%|██████████| 15/15 [00:00<00:00, 52.95it/s]\n"
     ]
    },
    {
     "name": "stdout",
     "output_type": "stream",
     "text": [
      "Epoch [4/100] Training Loss: 0.0010  Validation Loss: 0.0013\n",
      "\n"
     ]
    },
    {
     "name": "stderr",
     "output_type": "stream",
     "text": [
      "EPOCH 5/100: 100%|██████████| 15/15 [00:00<00:00, 62.53it/s]\n"
     ]
    },
    {
     "name": "stdout",
     "output_type": "stream",
     "text": [
      "Epoch [5/100] Training Loss: 0.0008  Validation Loss: 0.0011\n",
      "\n"
     ]
    },
    {
     "name": "stderr",
     "output_type": "stream",
     "text": [
      "EPOCH 6/100: 100%|██████████| 15/15 [00:00<00:00, 61.77it/s]\n"
     ]
    },
    {
     "name": "stdout",
     "output_type": "stream",
     "text": [
      "Epoch [6/100] Training Loss: 0.0007  Validation Loss: 0.0010\n",
      "\n"
     ]
    },
    {
     "name": "stderr",
     "output_type": "stream",
     "text": [
      "EPOCH 7/100: 100%|██████████| 15/15 [00:00<00:00, 60.36it/s]\n"
     ]
    },
    {
     "name": "stdout",
     "output_type": "stream",
     "text": [
      "Epoch [7/100] Training Loss: 0.0006  Validation Loss: 0.0010\n",
      "\n"
     ]
    },
    {
     "name": "stderr",
     "output_type": "stream",
     "text": [
      "EPOCH 8/100: 100%|██████████| 15/15 [00:00<00:00, 62.19it/s]\n"
     ]
    },
    {
     "name": "stdout",
     "output_type": "stream",
     "text": [
      "Epoch [8/100] Training Loss: 0.0007  Validation Loss: 0.0009\n",
      "\n"
     ]
    },
    {
     "name": "stderr",
     "output_type": "stream",
     "text": [
      "EPOCH 9/100: 100%|██████████| 15/15 [00:00<00:00, 65.34it/s]\n"
     ]
    },
    {
     "name": "stdout",
     "output_type": "stream",
     "text": [
      "Epoch [9/100] Training Loss: 0.0006  Validation Loss: 0.0009\n",
      "\n"
     ]
    },
    {
     "name": "stderr",
     "output_type": "stream",
     "text": [
      "EPOCH 10/100: 100%|██████████| 15/15 [00:00<00:00, 64.89it/s]\n"
     ]
    },
    {
     "name": "stdout",
     "output_type": "stream",
     "text": [
      "Epoch [10/100] Training Loss: 0.0006  Validation Loss: 0.0009\n",
      "\n"
     ]
    },
    {
     "name": "stderr",
     "output_type": "stream",
     "text": [
      "EPOCH 11/100: 100%|██████████| 15/15 [00:00<00:00, 67.42it/s]\n"
     ]
    },
    {
     "name": "stdout",
     "output_type": "stream",
     "text": [
      "Epoch [11/100] Training Loss: 0.0006  Validation Loss: 0.0009\n",
      "\n"
     ]
    },
    {
     "name": "stderr",
     "output_type": "stream",
     "text": [
      "EPOCH 12/100: 100%|██████████| 15/15 [00:00<00:00, 61.70it/s]\n"
     ]
    },
    {
     "name": "stdout",
     "output_type": "stream",
     "text": [
      "Epoch [12/100] Training Loss: 0.0006  Validation Loss: 0.0009\n",
      "\n"
     ]
    },
    {
     "name": "stderr",
     "output_type": "stream",
     "text": [
      "EPOCH 13/100: 100%|██████████| 15/15 [00:00<00:00, 67.14it/s]\n"
     ]
    },
    {
     "name": "stdout",
     "output_type": "stream",
     "text": [
      "Epoch [13/100] Training Loss: 0.0006  Validation Loss: 0.0009\n",
      "\n"
     ]
    },
    {
     "name": "stderr",
     "output_type": "stream",
     "text": [
      "EPOCH 14/100: 100%|██████████| 15/15 [00:00<00:00, 73.49it/s]\n"
     ]
    },
    {
     "name": "stdout",
     "output_type": "stream",
     "text": [
      "Epoch [14/100] Training Loss: 0.0006  Validation Loss: 0.0009\n",
      "\n"
     ]
    },
    {
     "name": "stderr",
     "output_type": "stream",
     "text": [
      "EPOCH 15/100: 100%|██████████| 15/15 [00:00<00:00, 72.25it/s]\n"
     ]
    },
    {
     "name": "stdout",
     "output_type": "stream",
     "text": [
      "Epoch [15/100] Training Loss: 0.0006  Validation Loss: 0.0009\n",
      "\n"
     ]
    },
    {
     "name": "stderr",
     "output_type": "stream",
     "text": [
      "EPOCH 16/100: 100%|██████████| 15/15 [00:00<00:00, 67.49it/s]\n"
     ]
    },
    {
     "name": "stdout",
     "output_type": "stream",
     "text": [
      "Epoch [16/100] Training Loss: 0.0006  Validation Loss: 0.0009\n",
      "\n"
     ]
    },
    {
     "name": "stderr",
     "output_type": "stream",
     "text": [
      "EPOCH 17/100: 100%|██████████| 15/15 [00:00<00:00, 60.27it/s]\n"
     ]
    },
    {
     "name": "stdout",
     "output_type": "stream",
     "text": [
      "Epoch [17/100] Training Loss: 0.0006  Validation Loss: 0.0009\n",
      "\n"
     ]
    },
    {
     "name": "stderr",
     "output_type": "stream",
     "text": [
      "EPOCH 18/100: 100%|██████████| 15/15 [00:00<00:00, 67.28it/s]\n"
     ]
    },
    {
     "name": "stdout",
     "output_type": "stream",
     "text": [
      "Epoch [18/100] Training Loss: 0.0006  Validation Loss: 0.0009\n",
      "\n"
     ]
    },
    {
     "name": "stderr",
     "output_type": "stream",
     "text": [
      "EPOCH 19/100: 100%|██████████| 15/15 [00:00<00:00, 66.01it/s]\n"
     ]
    },
    {
     "name": "stdout",
     "output_type": "stream",
     "text": [
      "Epoch [19/100] Training Loss: 0.0006  Validation Loss: 0.0009\n",
      "\n"
     ]
    },
    {
     "name": "stderr",
     "output_type": "stream",
     "text": [
      "EPOCH 20/100: 100%|██████████| 15/15 [00:00<00:00, 67.08it/s]\n"
     ]
    },
    {
     "name": "stdout",
     "output_type": "stream",
     "text": [
      "Epoch [20/100] Training Loss: 0.0006  Validation Loss: 0.0009\n",
      "\n"
     ]
    },
    {
     "name": "stderr",
     "output_type": "stream",
     "text": [
      "EPOCH 21/100: 100%|██████████| 15/15 [00:00<00:00, 63.61it/s]\n"
     ]
    },
    {
     "name": "stdout",
     "output_type": "stream",
     "text": [
      "Epoch [21/100] Training Loss: 0.0006  Validation Loss: 0.0009\n",
      "\n"
     ]
    },
    {
     "name": "stderr",
     "output_type": "stream",
     "text": [
      "EPOCH 22/100: 100%|██████████| 15/15 [00:00<00:00, 62.91it/s]\n"
     ]
    },
    {
     "name": "stdout",
     "output_type": "stream",
     "text": [
      "Epoch [22/100] Training Loss: 0.0006  Validation Loss: 0.0009\n",
      "\n"
     ]
    },
    {
     "name": "stderr",
     "output_type": "stream",
     "text": [
      "EPOCH 23/100: 100%|██████████| 15/15 [00:00<00:00, 66.29it/s]\n"
     ]
    },
    {
     "name": "stdout",
     "output_type": "stream",
     "text": [
      "Epoch [23/100] Training Loss: 0.0006  Validation Loss: 0.0009\n",
      "\n"
     ]
    },
    {
     "name": "stderr",
     "output_type": "stream",
     "text": [
      "EPOCH 24/100: 100%|██████████| 15/15 [00:00<00:00, 58.42it/s]\n"
     ]
    },
    {
     "name": "stdout",
     "output_type": "stream",
     "text": [
      "Epoch [24/100] Training Loss: 0.0006  Validation Loss: 0.0009\n",
      "\n"
     ]
    },
    {
     "name": "stderr",
     "output_type": "stream",
     "text": [
      "EPOCH 25/100: 100%|██████████| 15/15 [00:00<00:00, 49.88it/s]\n"
     ]
    },
    {
     "name": "stdout",
     "output_type": "stream",
     "text": [
      "Epoch [25/100] Training Loss: 0.0005  Validation Loss: 0.0009\n",
      "\n"
     ]
    },
    {
     "name": "stderr",
     "output_type": "stream",
     "text": [
      "EPOCH 26/100: 100%|██████████| 15/15 [00:00<00:00, 44.49it/s]\n"
     ]
    },
    {
     "name": "stdout",
     "output_type": "stream",
     "text": [
      "Epoch [26/100] Training Loss: 0.0006  Validation Loss: 0.0009\n",
      "\n"
     ]
    },
    {
     "name": "stderr",
     "output_type": "stream",
     "text": [
      "EPOCH 27/100: 100%|██████████| 15/15 [00:00<00:00, 50.73it/s]\n"
     ]
    },
    {
     "name": "stdout",
     "output_type": "stream",
     "text": [
      "Epoch [27/100] Training Loss: 0.0006  Validation Loss: 0.0009\n",
      "\n"
     ]
    },
    {
     "name": "stderr",
     "output_type": "stream",
     "text": [
      "EPOCH 28/100: 100%|██████████| 15/15 [00:00<00:00, 51.34it/s]\n"
     ]
    },
    {
     "name": "stdout",
     "output_type": "stream",
     "text": [
      "Epoch [28/100] Training Loss: 0.0006  Validation Loss: 0.0009\n",
      "\n"
     ]
    },
    {
     "name": "stderr",
     "output_type": "stream",
     "text": [
      "EPOCH 29/100: 100%|██████████| 15/15 [00:00<00:00, 59.81it/s]\n"
     ]
    },
    {
     "name": "stdout",
     "output_type": "stream",
     "text": [
      "Epoch [29/100] Training Loss: 0.0006  Validation Loss: 0.0009\n",
      "\n"
     ]
    },
    {
     "name": "stderr",
     "output_type": "stream",
     "text": [
      "EPOCH 30/100: 100%|██████████| 15/15 [00:00<00:00, 63.08it/s]\n"
     ]
    },
    {
     "name": "stdout",
     "output_type": "stream",
     "text": [
      "Epoch [30/100] Training Loss: 0.0006  Validation Loss: 0.0009\n",
      "\n"
     ]
    },
    {
     "name": "stderr",
     "output_type": "stream",
     "text": [
      "EPOCH 31/100: 100%|██████████| 15/15 [00:00<00:00, 61.70it/s]\n"
     ]
    },
    {
     "name": "stdout",
     "output_type": "stream",
     "text": [
      "Epoch [31/100] Training Loss: 0.0006  Validation Loss: 0.0009\n",
      "\n"
     ]
    },
    {
     "name": "stderr",
     "output_type": "stream",
     "text": [
      "EPOCH 32/100: 100%|██████████| 15/15 [00:00<00:00, 64.46it/s]\n"
     ]
    },
    {
     "name": "stdout",
     "output_type": "stream",
     "text": [
      "Epoch [32/100] Training Loss: 0.0006  Validation Loss: 0.0009\n",
      "\n"
     ]
    },
    {
     "name": "stderr",
     "output_type": "stream",
     "text": [
      "EPOCH 33/100: 100%|██████████| 15/15 [00:00<00:00, 58.41it/s]\n"
     ]
    },
    {
     "name": "stdout",
     "output_type": "stream",
     "text": [
      "Epoch [33/100] Training Loss: 0.0006  Validation Loss: 0.0008\n",
      "\n"
     ]
    },
    {
     "name": "stderr",
     "output_type": "stream",
     "text": [
      "EPOCH 34/100: 100%|██████████| 15/15 [00:00<00:00, 56.31it/s]\n"
     ]
    },
    {
     "name": "stdout",
     "output_type": "stream",
     "text": [
      "Epoch [34/100] Training Loss: 0.0006  Validation Loss: 0.0009\n",
      "\n"
     ]
    },
    {
     "name": "stderr",
     "output_type": "stream",
     "text": [
      "EPOCH 35/100: 100%|██████████| 15/15 [00:00<00:00, 54.74it/s]\n"
     ]
    },
    {
     "name": "stdout",
     "output_type": "stream",
     "text": [
      "Epoch [35/100] Training Loss: 0.0006  Validation Loss: 0.0008\n",
      "\n"
     ]
    },
    {
     "name": "stderr",
     "output_type": "stream",
     "text": [
      "EPOCH 36/100: 100%|██████████| 15/15 [00:00<00:00, 60.61it/s]\n"
     ]
    },
    {
     "name": "stdout",
     "output_type": "stream",
     "text": [
      "Epoch [36/100] Training Loss: 0.0005  Validation Loss: 0.0009\n",
      "\n"
     ]
    },
    {
     "name": "stderr",
     "output_type": "stream",
     "text": [
      "EPOCH 37/100: 100%|██████████| 15/15 [00:00<00:00, 64.40it/s]\n"
     ]
    },
    {
     "name": "stdout",
     "output_type": "stream",
     "text": [
      "Epoch [37/100] Training Loss: 0.0006  Validation Loss: 0.0009\n",
      "\n"
     ]
    },
    {
     "name": "stderr",
     "output_type": "stream",
     "text": [
      "EPOCH 38/100: 100%|██████████| 15/15 [00:00<00:00, 58.57it/s]\n"
     ]
    },
    {
     "name": "stdout",
     "output_type": "stream",
     "text": [
      "Epoch [38/100] Training Loss: 0.0006  Validation Loss: 0.0008\n",
      "\n"
     ]
    },
    {
     "name": "stderr",
     "output_type": "stream",
     "text": [
      "EPOCH 39/100: 100%|██████████| 15/15 [00:00<00:00, 57.22it/s]\n"
     ]
    },
    {
     "name": "stdout",
     "output_type": "stream",
     "text": [
      "Epoch [39/100] Training Loss: 0.0006  Validation Loss: 0.0008\n",
      "\n"
     ]
    },
    {
     "name": "stderr",
     "output_type": "stream",
     "text": [
      "EPOCH 40/100: 100%|██████████| 15/15 [00:00<00:00, 60.74it/s]\n"
     ]
    },
    {
     "name": "stdout",
     "output_type": "stream",
     "text": [
      "Epoch [40/100] Training Loss: 0.0005  Validation Loss: 0.0008\n",
      "\n"
     ]
    },
    {
     "name": "stderr",
     "output_type": "stream",
     "text": [
      "EPOCH 41/100: 100%|██████████| 15/15 [00:00<00:00, 44.26it/s]\n"
     ]
    },
    {
     "name": "stdout",
     "output_type": "stream",
     "text": [
      "Epoch [41/100] Training Loss: 0.0006  Validation Loss: 0.0008\n",
      "\n"
     ]
    },
    {
     "name": "stderr",
     "output_type": "stream",
     "text": [
      "EPOCH 42/100: 100%|██████████| 15/15 [00:00<00:00, 57.94it/s]\n"
     ]
    },
    {
     "name": "stdout",
     "output_type": "stream",
     "text": [
      "Epoch [42/100] Training Loss: 0.0006  Validation Loss: 0.0009\n",
      "\n"
     ]
    },
    {
     "name": "stderr",
     "output_type": "stream",
     "text": [
      "EPOCH 43/100: 100%|██████████| 15/15 [00:00<00:00, 57.59it/s]\n"
     ]
    },
    {
     "name": "stdout",
     "output_type": "stream",
     "text": [
      "Epoch [43/100] Training Loss: 0.0006  Validation Loss: 0.0009\n",
      "\n"
     ]
    },
    {
     "name": "stderr",
     "output_type": "stream",
     "text": [
      "EPOCH 44/100: 100%|██████████| 15/15 [00:00<00:00, 61.58it/s]\n"
     ]
    },
    {
     "name": "stdout",
     "output_type": "stream",
     "text": [
      "Epoch [44/100] Training Loss: 0.0005  Validation Loss: 0.0008\n",
      "\n"
     ]
    },
    {
     "name": "stderr",
     "output_type": "stream",
     "text": [
      "EPOCH 45/100: 100%|██████████| 15/15 [00:00<00:00, 57.95it/s]\n"
     ]
    },
    {
     "name": "stdout",
     "output_type": "stream",
     "text": [
      "Epoch [45/100] Training Loss: 0.0005  Validation Loss: 0.0008\n",
      "\n"
     ]
    },
    {
     "name": "stderr",
     "output_type": "stream",
     "text": [
      "EPOCH 46/100: 100%|██████████| 15/15 [00:00<00:00, 53.98it/s]\n"
     ]
    },
    {
     "name": "stdout",
     "output_type": "stream",
     "text": [
      "Epoch [46/100] Training Loss: 0.0006  Validation Loss: 0.0008\n",
      "\n"
     ]
    },
    {
     "name": "stderr",
     "output_type": "stream",
     "text": [
      "EPOCH 47/100: 100%|██████████| 15/15 [00:00<00:00, 56.92it/s]\n"
     ]
    },
    {
     "name": "stdout",
     "output_type": "stream",
     "text": [
      "Epoch [47/100] Training Loss: 0.0005  Validation Loss: 0.0008\n",
      "\n"
     ]
    },
    {
     "name": "stderr",
     "output_type": "stream",
     "text": [
      "EPOCH 48/100: 100%|██████████| 15/15 [00:00<00:00, 61.12it/s]\n"
     ]
    },
    {
     "name": "stdout",
     "output_type": "stream",
     "text": [
      "Epoch [48/100] Training Loss: 0.0006  Validation Loss: 0.0008\n",
      "\n"
     ]
    },
    {
     "name": "stderr",
     "output_type": "stream",
     "text": [
      "EPOCH 49/100: 100%|██████████| 15/15 [00:00<00:00, 57.33it/s]\n"
     ]
    },
    {
     "name": "stdout",
     "output_type": "stream",
     "text": [
      "Epoch [49/100] Training Loss: 0.0005  Validation Loss: 0.0008\n",
      "\n"
     ]
    },
    {
     "name": "stderr",
     "output_type": "stream",
     "text": [
      "EPOCH 50/100: 100%|██████████| 15/15 [00:00<00:00, 50.40it/s]\n"
     ]
    },
    {
     "name": "stdout",
     "output_type": "stream",
     "text": [
      "Epoch [50/100] Training Loss: 0.0005  Validation Loss: 0.0009\n",
      "\n"
     ]
    },
    {
     "name": "stderr",
     "output_type": "stream",
     "text": [
      "EPOCH 51/100: 100%|██████████| 15/15 [00:00<00:00, 61.17it/s]"
     ]
    },
    {
     "name": "stdout",
     "output_type": "stream",
     "text": [
      "Epoch [51/100] Training Loss: 0.0006  Validation Loss: 0.0008\n",
      "\n",
      "Training stopped after 6 consecutive iterations without improvement.\n",
      "Training completed.\n",
      "Best validation loss: 0.0008362308338594934, model loaded with the selected parameters\n"
     ]
    },
    {
     "name": "stderr",
     "output_type": "stream",
     "text": [
      "\n"
     ]
    },
    {
     "data": {
      "text/plain": [
       "Autoencoder(\n",
       "  (encoder): Encoder(\n",
       "    (encoder): Sequential(\n",
       "      (0): Linear(in_features=21504, out_features=128, bias=True)\n",
       "      (1): Mish()\n",
       "      (2): Linear(in_features=128, out_features=256, bias=True)\n",
       "      (3): Mish()\n",
       "      (4): Linear(in_features=256, out_features=512, bias=True)\n",
       "      (5): Mish()\n",
       "      (6): Linear(in_features=512, out_features=1024, bias=True)\n",
       "      (7): Mish()\n",
       "      (8): Linear(in_features=1024, out_features=1000, bias=True)\n",
       "    )\n",
       "  )\n",
       "  (decoder): Decoder(\n",
       "    (decoder): Sequential(\n",
       "      (0): Linear(in_features=1000, out_features=1024, bias=True)\n",
       "      (1): Mish()\n",
       "      (2): Linear(in_features=1024, out_features=512, bias=True)\n",
       "      (3): Mish()\n",
       "      (4): Linear(in_features=512, out_features=256, bias=True)\n",
       "      (5): Mish()\n",
       "      (6): Linear(in_features=256, out_features=128, bias=True)\n",
       "      (7): Mish()\n",
       "      (8): Linear(in_features=128, out_features=21504, bias=True)\n",
       "      (9): Sigmoid()\n",
       "    )\n",
       "  )\n",
       ")"
      ]
     },
     "execution_count": 9,
     "metadata": {},
     "output_type": "execute_result"
    }
   ],
   "source": [
    "from mkit.torch_support.nn_utils import training_loop\n",
    "model = Autoencoder(MAX_LEN, WIDTH, HEIGHT, start_dim=128, n_layers=3, latent_dim=1000, output_channels=MAX_LEN)\n",
    "training_loop(\n",
    "    model, \n",
    "    train_loader=loader,\n",
    "    val_loader=val_loader,\n",
    "    optimizer=torch.optim.Adamax(model.parameters()),\n",
    "    criterion=nn.BCELoss(),\n",
    "    device=torch.device('cuda'),\n",
    "    epochs=100,\n",
    "    early_stopping=True\n",
    ")"
   ]
  },
  {
   "cell_type": "code",
   "execution_count": 10,
   "metadata": {},
   "outputs": [
    {
     "data": {
      "text/plain": [
       "<matplotlib.image.AxesImage at 0x21cb8746350>"
      ]
     },
     "execution_count": 10,
     "metadata": {},
     "output_type": "execute_result"
    },
    {
     "data": {
      "image/png": "[encoded data removed]",
      "text/plain": [
       "<Figure size 640x480 with 1 Axes>"
      ]
     },
     "metadata": {},
     "output_type": "display_data"
    }
   ],
   "source": [
    "plt.imshow(test_labels[1][0])"
   ]
  },
  {
   "cell_type": "code",
   "execution_count": 11,
   "metadata": {},
   "outputs": [],
   "source": [
    "pred = model(torch.tensor(test_labels, dtype=torch.float32, device=torch.device('cuda')))\n"
   ]
  },
  {
   "cell_type": "code",
   "execution_count": 12,
   "metadata": {},
   "outputs": [],
   "source": [
    "import os\n",
    "import matplotlib.pyplot as plt\n",
    "\n",
    "idx = 1\n",
    "for count, (pred_img, label_img) in enumerate(zip(pred[idx].cpu().detach(), test_labels[idx])):\n",
    "    # Create a figure with 1 row and 2 columns, and set an appropriate figure size\n",
    "    fig, axes = plt.subplots(1, 2, figsize=(12, 6))\n",
    "    \n",
    "    # Plot prediction image with a title and a shrunken colorbar with some padding\n",
    "    im0 = axes[0].imshow(pred_img, cmap='viridis')\n",
    "    axes[0].set_title(\"Prediction\")\n",
    "    fig.colorbar(im0, ax=axes[0], shrink=0.7, pad=0.05)\n",
    "    \n",
    "    # Plot ground truth image with a title and a shrunken colorbar with some padding\n",
    "    im1 = axes[1].imshow(label_img, cmap='viridis')\n",
    "    axes[1].set_title(\"Ground Truth\")\n",
    "    fig.colorbar(im1, ax=axes[1], shrink=0.7, pad=0.05)\n",
    "    \n",
    "    # Adjust layout to leave space for the suptitle\n",
    "    fig.subplots_adjust(top=0.85)\n",
    "    NAME = f\"Autoencoder_{count}_sigmoid_FullyConnected\"\n",
    "    fig.suptitle(NAME, fontsize=16)\n",
    "    \n",
    "    # Create output directory if it doesn't exist\n",
    "    PATH = f'../fig/AE_SIGMOID/{idx}'\n",
    "    os.makedirs(PATH, exist_ok=True)\n",
    "    \n",
    "    # Save and close the figure\n",
    "    plt.savefig(f\"{PATH}/{NAME}.png\")\n",
    "    plt.close(fig)\n"
   ]
  },
  {
   "cell_type": "code",
   "execution_count": 13,
   "metadata": {},
   "outputs": [
    {
     "data": {
      "image/png": "[encoded data removed]",
      "text/plain": [
       "<Figure size 1200x800 with 2 Axes>"
      ]
     },
     "metadata": {},
     "output_type": "display_data"
    }
   ],
   "source": [
    "\n",
    "\n",
    "# Compute the latent representation from the test labels\n",
    "latent = model.encoder(\n",
    "    torch.tensor(test_labels, dtype=torch.float32, device=torch.device('cuda'))\n",
    ").detach().cpu().numpy()\n",
    "\n",
    "# Create a figure with a suitable size\n",
    "plt.figure(figsize=(12, 8))\n",
    "\n",
    "# Display the latent space matrix\n",
    "im = plt.imshow(latent, aspect='auto', cmap='viridis')\n",
    "\n",
    "# Add labels, title, and a colorbar for reference\n",
    "plt.xlabel(r'Dimension $i$ of Latent Space', fontsize=12)\n",
    "plt.ylabel(r'Sample $j$', fontsize=12)\n",
    "plt.title(\"Latent Space Visualization\", fontsize=14)\n",
    "plt.colorbar(im, label='Activation Value')\n",
    "\n",
    "# Adjust layout to prevent clipping of labels and title\n",
    "plt.tight_layout()\n",
    "plt.show()\n"
   ]
  }
 ],
 "metadata": {
  "kernelspec": {
   "display_name": "base",
   "language": "python",
   "name": "python3"
  },
  "language_info": {
   "codemirror_mode": {
    "name": "ipython",
    "version": 3
   },
   "file_extension": ".py",
   "mimetype": "text/x-python",
   "name": "python",
   "nbconvert_exporter": "python",
   "pygments_lexer": "ipython3",
   "version": "3.11.5"
  }
 },
 "nbformat": 4,
 "nbformat_minor": 2
}
