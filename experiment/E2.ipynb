{
 "cells": [
  {
   "cell_type": "code",
   "execution_count": null,
   "metadata": {},
   "outputs": [
    {
     "name": "stdout",
     "output_type": "stream",
     "text": [
      "original dataset size: 238\n",
      "dataset size with duplicates removed: 172\n"
     ]
    }
   ],
   "source": [
    "import os\n",
    "import sys\n",
    "parent_dir = os.path.join(os.getcwd(), '..')\n",
    "if parent_dir not in sys.path: sys.path.append(parent_dir)\n",
    "from utility.data_utils import *\n",
    "from utility.visuals import *\n",
    "from model.dimensional_reduction import *\n",
    "from model.gans import *\n",
    "from model.rf import *\n",
    "from model.dnn import *\n",
    "from model.knn import *\n",
    "from dotenv import load_dotenv\n",
    "from sklearn.model_selection import train_test_split\n",
    "import numpy as np\n",
    "import pandas as pd\n",
    "from scipy.ndimage import gaussian_filter\n",
    "from sklearn.metrics import mean_squared_error, mean_absolute_percentage_error, mean_absolute_error\n",
    "load_dotenv()\n",
    "DATA_DIR = os.getenv(\"DATA_DIR\")\n",
    "PCA_N_COMPONENTS = float(os.getenv(\"PCA_N_COMPONENTS\"))\n",
    "NOISE_DIM = int(os.getenv(\"NOISE_DIM\"))\n",
    "BATCH_SIZE = int(os.getenv(\"BATCH_SIZE\"))\n",
    "NUM_EPOCHS = int(os.getenv(\"NUM_EPOCHS\"))\n",
    "NUM_EPOCHS = 7000\n",
    "\n",
    "\n",
    "files = get_files(DATA_DIR)\n",
    "file = files[0]\n",
    "city_name = file.split('\\\\')[-1].split('.csv')[0].split('_')[0]\n",
    "\n",
    "path_name = process_and_transform_data(file, resolution=.5, overwrite=True)\n",
    "with open(path_name, 'rb') as f:\n",
    "    result_dict = pickle.load(f)\n",
    "labels = result_dict['labels']\n",
    "encoder = result_dict['encoder']\n",
    "MAX_LEN = result_dict['max length']\n",
    "file_name = result_dict['file name']\n",
    "WIDTH = result_dict['width']\n",
    "HEIGHT = result_dict['height']\n",
    "unique_labels = [u for u in labels if np.array(np.where(u != 0)).T.shape[0] > 1]\n",
    "train_labels, test_labels = train_test_split(np.expand_dims(np.array(unique_labels), axis=1), test_size=.2)\n",
    "pca = PCATransformer(n_components=PCA_N_COMPONENTS)\n",
    "transformed = pca.fit_and_predict(\n",
    "    train_labels.reshape(train_labels.shape[0], -1)\n",
    ")\n",
    "knn = KNNFeaturesExtractor()\n",
    "knn.fit(transformed)\n",
    "features = knn.predict(transformed)\n",
    "features = features.reshape(len(features), -1)\n",
    "\n",
    "OUTPUT_DIM = transformed.shape[1]\n",
    "CONDITION_DIM = features.shape[-1]\n",
    "x, y, _, _ = get_x_y(test_labels, MAX_LEN=MAX_LEN, encoder=encoder)\n",
    "x = np.array(x)\n",
    "y = np.array(y)\n",
    "test_pca = PCATransformer(n_components=transformed.shape[-1])\n",
    "test_transformed = test_pca.fit_and_predict(\n",
    "    x.reshape(x.shape[0], -1)\n",
    ")\n",
    "test_features = knn.predict(test_transformed)\n",
    "test_features = test_features.reshape(len(test_features), -1)\n",
    "\n",
    "dnn_manager = DNNManager(\n",
    "    input_dim=CONDITION_DIM, \n",
    "    output_dim=OUTPUT_DIM, \n",
    "    batch_size=BATCH_SIZE, \n",
    "    num_epochs=NUM_EPOCHS,\n",
    "    lr=3e-4,\n",
    "    betas=(.5, 0.999)\n",
    ")\n",
    "dnn_manager.train(features, transformed, verbose=1)\n",
    "\n",
    "gan_manager = GANManager(\n",
    "    noise_dim=NOISE_DIM,\n",
    "    condition_dim=features.shape[-1],\n",
    "    output_dim=transformed.shape[1],\n",
    "    batch_size=BATCH_SIZE,\n",
    "    num_epochs=NUM_EPOCHS,\n",
    "    lr=0.0002,\n",
    "    betas = (.5, 0.999),\n",
    ")\n",
    "gan_manager.train(features, transformed, verbose=1)\n",
    "\n",
    "rf_manager = RandomForestManager()\n",
    "rf_manager.train(features, transformed)\n",
    "\n",
    "knn_manager = KNNManager(n_neighbors=1)\n",
    "knn_manager.train(features, transformed)\n",
    "\n",
    "gan_output = gan_manager.predict(test_features)\n",
    "gan_output_shaped = test_pca.predict(gan_output, inverse=True)\\\n",
    "    .reshape(len(gan_output), x.shape[-2], x.shape[-1])\n",
    "gan_output_shaped[gan_output_shaped < 0] = 0\n",
    "\n",
    "dnn_output = dnn_manager.predict(test_features)\n",
    "dnn_output_shaped = test_pca.predict(dnn_output, inverse=True)\\\n",
    "    .reshape(len(dnn_output), x.shape[-2], x.shape[-1])\n",
    "dnn_output_shaped[dnn_output_shaped < 0] = 0\n",
    "\n",
    "rf_output = rf_manager.predict(test_features)\n",
    "rf_output_shaped = test_pca.predict(rf_output, inverse=True)\\\n",
    "    .reshape(len(rf_output), x.shape[-2], x.shape[-1])\n",
    "rf_output_shaped[rf_output_shaped < 0] = 0\n",
    "\n",
    "knn_output = knn_manager.predict(test_features)\n",
    "knn_output_shaped = test_pca.predict(knn_output, inverse=True)\\\n",
    "    .reshape(len(knn_output), x.shape[-2], x.shape[-1])\n",
    "knn_output_shaped[knn_output_shaped < 0] = 0\n",
    "\n"
   ]
  },
  {
   "cell_type": "code",
   "execution_count": null,
   "metadata": {},
   "outputs": [
    {
     "name": "stdout",
     "output_type": "stream",
     "text": [
      "  Model  Overlap (IoU)  Jensen-Shannon Divergence      RMSE  \\\n",
      "0   GAN       0.300865                   0.259417  0.006573   \n",
      "1   DNN       0.361644                   0.218985  0.004702   \n",
      "2    RF       0.355918                   0.221300  0.004294   \n",
      "3   KNN       0.330735                   0.247492  0.004909   \n",
      "\n",
      "                                     Filtered Output  \n",
      "0  [[[0.05230802328738748, 0.049650400248526606, ...  \n",
      "1  [[[0.004161448517097968, 0.003772598963876223,...  \n",
      "2  [[[0.007658627875977397, 0.009265910690945154,...  \n",
      "3  [[[0.005431978523791113, 0.006917387373674632,...  \n"
     ]
    }
   ],
   "source": [
    "\n",
    "SIGMA = 2\n",
    "# Apply Gaussian filter to each 2D image in a set of images\n",
    "def apply_gaussian(images, sigma):\n",
    "    # images: numpy array with shape (n_samples, height, width)\n",
    "    return np.array([gaussian_filter(img, sigma=sigma) for img in images])\n",
    "\n",
    "# Apply filter to each model's output\n",
    "gan_filtered = apply_gaussian(gan_output_shaped, sigma=SIGMA)\n",
    "dnn_filtered = apply_gaussian(dnn_output_shaped, sigma=SIGMA)\n",
    "rf_filtered  = apply_gaussian(rf_output_shaped, sigma=SIGMA)\n",
    "knn_filtered = apply_gaussian(knn_output_shaped, sigma=SIGMA)\n",
    "act = x + y\n",
    "act = act[:, 0, :]\n",
    "# Ensure the ground truth 'act' is filtered per image (if not already)\n",
    "act_filtered = np.array([gaussian_filter(img, sigma=SIGMA) for img in act])\n",
    "\n",
    "import numpy as np\n",
    "import pandas as pd\n",
    "\n",
    "# Function to compute the symmetric overlap (intersection over union) between two images\n",
    "def compute_overlap(img1, img2):\n",
    "    # Both images are assumed to have values between 0 and 1\n",
    "    numerator = np.sum(np.minimum(img1, img2))\n",
    "    denominator = np.sum(np.maximum(img1, img2))\n",
    "    return numerator / denominator if denominator != 0 else 0\n",
    "\n",
    "# Function to compute the Bhattacharyya coefficient between two images\n",
    "def compute_bhattacharyya(img1, img2):\n",
    "    # Optionally, normalize images so that their sums equal 1\n",
    "    p = img1 / np.sum(img1) if np.sum(img1) != 0 else img1\n",
    "    q = img2 / np.sum(img2) if np.sum(img2) != 0 else img2\n",
    "    return np.sum(np.sqrt(p * q))\n",
    "\n",
    "from scipy.spatial.distance import jensenshannon\n",
    "\n",
    "# Function to compute the Jensen-Shannon Divergence (JSD) between two images\n",
    "def compute_jsd(img1, img2):\n",
    "    # Normalize images so that they sum to 1 (convert to probability distributions)\n",
    "    p = img1 / np.sum(img1) if np.sum(img1) != 0 else img1\n",
    "    q = img2 / np.sum(img2) if np.sum(img2) != 0 else img2\n",
    "    # Compute Jensen-Shannon Divergence (JSD)\n",
    "    return jensenshannon(p.flatten(), q.flatten()) ** 2  # Square to get original JSD\n",
    "\n",
    "# Function to compute RMSE between two images\n",
    "def compute_rmse(img1, img2):\n",
    "    return np.sqrt(mean_squared_error(img1, img2))\n",
    "\n",
    "# Calculate average metrics for each model\n",
    "jsd_gan = np.mean([compute_jsd(act_filtered[i], gan_filtered[i]) for i in range(len(act_filtered))])\n",
    "jsd_dnn = np.mean([compute_jsd(act_filtered[i], dnn_filtered[i]) for i in range(len(act_filtered))])\n",
    "jsd_rf  = np.mean([compute_jsd(act_filtered[i], rf_filtered[i]) for i in range(len(act_filtered))])\n",
    "jsd_knn = np.mean([compute_jsd(act_filtered[i], knn_filtered[i]) for i in range(len(act_filtered))])\n",
    "\n",
    "overlap_gan = np.mean([compute_overlap(act_filtered[i], gan_filtered[i]) for i in range(len(act_filtered))])\n",
    "overlap_dnn = np.mean([compute_overlap(act_filtered[i], dnn_filtered[i]) for i in range(len(act_filtered))])\n",
    "overlap_rf  = np.mean([compute_overlap(act_filtered[i], rf_filtered[i])  for i in range(len(act_filtered))])\n",
    "overlap_knn = np.mean([compute_overlap(act_filtered[i], knn_filtered[i]) for i in range(len(act_filtered))])\n",
    "\n",
    "bhatt_gan = np.mean([compute_bhattacharyya(act_filtered[i], gan_filtered[i]) for i in range(len(act_filtered))])\n",
    "bhatt_dnn = np.mean([compute_bhattacharyya(act_filtered[i], dnn_filtered[i]) for i in range(len(act_filtered))])\n",
    "bhatt_rf  = np.mean([compute_bhattacharyya(act_filtered[i], rf_filtered[i])  for i in range(len(act_filtered))])\n",
    "bhatt_knn = np.mean([compute_bhattacharyya(act_filtered[i], knn_filtered[i]) for i in range(len(act_filtered))])\n",
    "\n",
    "rmse_gan = np.mean([compute_rmse(act_filtered[i], gan_filtered[i]) for i in range(len(act_filtered))])\n",
    "rmse_dnn = np.mean([compute_rmse(act_filtered[i], dnn_filtered[i]) for i in range(len(act_filtered))])\n",
    "rmse_rf  = np.mean([compute_rmse(act_filtered[i], rf_filtered[i]) for i in range(len(act_filtered))])\n",
    "rmse_knn = np.mean([compute_rmse(act_filtered[i], knn_filtered[i]) for i in range(len(act_filtered))])\n",
    "\n",
    "# Create a DataFrame to store the evaluation metrics\n",
    "results_df = pd.DataFrame({\n",
    "    \"Model\": [\"GAN\", \"DNN\", \"RF\", \"KNN\"],\n",
    "    \"Overlap (IoU)\": [overlap_gan, overlap_dnn, overlap_rf, overlap_knn],\n",
    "    \"Jensen-Shannon Divergence\": [jsd_gan, jsd_dnn, jsd_rf, jsd_knn],\n",
    "    \"RMSE\": [rmse_gan, rmse_dnn, rmse_rf, rmse_knn],\n",
    "    \"Filtered Output\": [gan_filtered, dnn_filtered, rf_filtered, knn_filtered]\n",
    "})\n",
    "\n",
    "print(results_df)\n"
   ]
  },
  {
   "cell_type": "code",
   "execution_count": null,
   "metadata": {},
   "outputs": [
    {
     "data": {
      "text/plain": [
       "<matplotlib.image.AxesImage at 0x220806b3190>"
      ]
     },
     "execution_count": 42,
     "metadata": {},
     "output_type": "execute_result"
    },
    {
     "data": {
      "image/png": "[encoded data removed]",
      "text/plain": [
       "<Figure size 640x480 with 1 Axes>"
      ]
     },
     "metadata": {},
     "output_type": "display_data"
    }
   ],
   "source": [
    "plt.imshow(knn_output_shaped[1])"
   ]
  },
  {
   "cell_type": "code",
   "execution_count": null,
   "metadata": {},
   "outputs": [
    {
     "data": {
      "text/plain": [
       "<matplotlib.image.AxesImage at 0x220804a1d10>"
      ]
     },
     "execution_count": 40,
     "metadata": {},
     "output_type": "execute_result"
    },
    {
     "data": {
      "image/png": "[encoded data removed]",
      "text/plain": [
       "<Figure size 640x480 with 1 Axes>"
      ]
     },
     "metadata": {},
     "output_type": "display_data"
    }
   ],
   "source": [
    "plt.imshow(gan_output_shaped[0])"
   ]
  },
  {
   "cell_type": "code",
   "execution_count": null,
   "metadata": {},
   "outputs": [
    {
     "data": {
      "text/plain": [
       "1.7958551701619816"
      ]
     },
     "execution_count": 27,
     "metadata": {},
     "output_type": "execute_result"
    }
   ],
   "source": [
    "i = 0\n",
    "act_filtered[i], gan_filtered[i]\n",
    "\n",
    "np.sum(np.minimum(act_filtered[i], gan_filtered[i]))"
   ]
  },
  {
   "cell_type": "code",
   "execution_count": null,
   "metadata": {},
   "outputs": [],
   "source": [
    "output = results_df[['Model', 'Filtered Output']]"
   ]
  },
  {
   "cell_type": "code",
   "execution_count": null,
   "metadata": {},
   "outputs": [
    {
     "data": {
      "text/plain": [
       "<matplotlib.image.AxesImage at 0x22080422050>"
      ]
     },
     "execution_count": 37,
     "metadata": {},
     "output_type": "execute_result"
    },
    {
     "data": {
      "image/png": "[encoded data removed]",
      "text/plain": [
       "<Figure size 640x480 with 1 Axes>"
      ]
     },
     "metadata": {},
     "output_type": "display_data"
    }
   ],
   "source": [
    "\n",
    "val = output[output.Model == 'GAN']['Filtered Output'].values[0]\n",
    "plt.imshow(val[7])"
   ]
  },
  {
   "cell_type": "code",
   "execution_count": null,
   "metadata": {},
   "outputs": [
    {
     "data": {
      "text/html": [
       "<div>\n",
       "<style scoped>\n",
       "    .dataframe tbody tr th:only-of-type {\n",
       "        vertical-align: middle;\n",
       "    }\n",
       "\n",
       "    .dataframe tbody tr th {\n",
       "        vertical-align: top;\n",
       "    }\n",
       "\n",
       "    .dataframe thead th {\n",
       "        text-align: right;\n",
       "    }\n",
       "</style>\n",
       "<table border=\"1\" class=\"dataframe\">\n",
       "  <thead>\n",
       "    <tr style=\"text-align: right;\">\n",
       "      <th></th>\n",
       "      <th>Model</th>\n",
       "      <th>Overlap (IoU)</th>\n",
       "      <th>Jensen-Shannon Divergence</th>\n",
       "      <th>RMSE</th>\n",
       "    </tr>\n",
       "  </thead>\n",
       "  <tbody>\n",
       "    <tr>\n",
       "      <th>0</th>\n",
       "      <td>GAN</td>\n",
       "      <td>0.300865</td>\n",
       "      <td>0.259417</td>\n",
       "      <td>0.006573</td>\n",
       "    </tr>\n",
       "    <tr>\n",
       "      <th>1</th>\n",
       "      <td>DNN</td>\n",
       "      <td>0.361644</td>\n",
       "      <td>0.218985</td>\n",
       "      <td>0.004702</td>\n",
       "    </tr>\n",
       "    <tr>\n",
       "      <th>2</th>\n",
       "      <td>RF</td>\n",
       "      <td>0.355918</td>\n",
       "      <td>0.221300</td>\n",
       "      <td>0.004294</td>\n",
       "    </tr>\n",
       "    <tr>\n",
       "      <th>3</th>\n",
       "      <td>KNN</td>\n",
       "      <td>0.330735</td>\n",
       "      <td>0.247492</td>\n",
       "      <td>0.004909</td>\n",
       "    </tr>\n",
       "  </tbody>\n",
       "</table>\n",
       "</div>"
      ],
      "text/plain": [
       "  Model  Overlap (IoU)  Jensen-Shannon Divergence      RMSE\n",
       "0   GAN       0.300865                   0.259417  0.006573\n",
       "1   DNN       0.361644                   0.218985  0.004702\n",
       "2    RF       0.355918                   0.221300  0.004294\n",
       "3   KNN       0.330735                   0.247492  0.004909"
      ]
     },
     "execution_count": 29,
     "metadata": {},
     "output_type": "execute_result"
    }
   ],
   "source": [
    "results_df.drop([\"Filtered Output\"], axis=1)"
   ]
  }
 ],
 "metadata": {
  "kernelspec": {
   "display_name": "base",
   "language": "python",
   "name": "python3"
  },
  "language_info": {
   "codemirror_mode": {
    "name": "ipython",
    "version": 3
   },
   "file_extension": ".py",
   "mimetype": "text/x-python",
   "name": "python",
   "nbconvert_exporter": "python",
   "pygments_lexer": "ipython3",
   "version": "3.11.5"
  }
 },
 "nbformat": 4,
 "nbformat_minor": 2
}
