{
 "cells": [
  {
   "cell_type": "code",
   "execution_count": null,
   "metadata": {},
   "outputs": [
    {
     "name": "stdout",
     "output_type": "stream",
     "text": [
      "original dataset size: 238\n",
      "dataset size with duplicates removed: 172\n"
     ]
    }
   ],
   "source": [
    "import os\n",
    "import sys\n",
    "parent_dir = os.path.join(os.getcwd(), '..')\n",
    "if parent_dir not in sys.path: sys.path.append(parent_dir)\n",
    "from utility.data_utils import *\n",
    "from utility.visuals import *\n",
    "from model.dimensional_reduction import *\n",
    "from model.gans import *\n",
    "from model.rf import *\n",
    "from model.dnn import *\n",
    "from model.knn import *\n",
    "from dotenv import load_dotenv\n",
    "from sklearn.model_selection import train_test_split\n",
    "import numpy as np\n",
    "import pandas as pd\n",
    "from scipy.ndimage import gaussian_filter\n",
    "from utility.eval import *\n",
    "from utility.functional import *\n",
    "load_dotenv()\n",
    "DATA_DIR = os.getenv(\"DATA_DIR\")\n",
    "PCA_N_COMPONENTS = float(os.getenv(\"PCA_N_COMPONENTS\"))\n",
    "NOISE_DIM = int(os.getenv(\"NOISE_DIM\"))\n",
    "BATCH_SIZE = int(os.getenv(\"BATCH_SIZE\"))\n",
    "NUM_EPOCHS = int(os.getenv(\"NUM_EPOCHS\"))\n",
    "NUM_EPOCHS = 1\n",
    "\n",
    "\n",
    "files = get_files(DATA_DIR)\n",
    "file = files[0]\n",
    "city_name = file.split('\\\\')[-1].split('.csv')[0].split('_')[0]\n",
    "\n",
    "path_name = process_and_transform_data(file, resolution=.5, overwrite=True)\n",
    "with open(path_name, 'rb') as f:\n",
    "    result_dict = pickle.load(f)\n",
    "labels = result_dict['labels']\n",
    "encoder = result_dict['encoder']\n",
    "MAX_LEN = result_dict['max length']\n",
    "file_name = result_dict['file name']\n",
    "WIDTH = result_dict['width']\n",
    "HEIGHT = result_dict['height']\n",
    "unique_labels = [u for u in labels if np.array(np.where(u != 0)).T.shape[0] > 1]\n",
    "train_labels, test_labels = train_test_split(np.expand_dims(np.array(unique_labels), axis=1), test_size=.2)\n",
    "train_labels = train_labels.reshape(len(train_labels), -1)"
   ]
  },
  {
   "cell_type": "code",
   "execution_count": 25,
   "metadata": {},
   "outputs": [],
   "source": [
    "dr = DimensionalityReducer(\n",
    "    method='tsne'\n",
    ")\n",
    "transformed_tsne = dr.fit_and_transform(train_labels.reshape(train_labels.shape[0], -1))"
   ]
  },
  {
   "cell_type": "code",
   "execution_count": 26,
   "metadata": {},
   "outputs": [],
   "source": [
    "\n",
    "knn = KNNFeaturesExtractor()\n",
    "knn.fit(transformed_tsne)\n",
    "features = knn.predict(transformed_tsne)\n",
    "features = features.reshape(len(features), -1)\n",
    "OUTPUT_DIM = train_labels.shape[1]\n",
    "CONDITION_DIM = features.shape[-1]\n",
    "x, y, _, _ = get_x_y(test_labels, MAX_LEN=MAX_LEN, encoder=encoder)\n",
    "x = np.array(x)\n",
    "y = np.array(y)\n",
    "test_pca = DimensionalityReducer(method='tsne')\n",
    "test_transformed = test_pca.fit_and_transform(\n",
    "    x.reshape(x.shape[0], -1)\n",
    ")\n",
    "test_features = knn.predict(test_transformed)\n",
    "test_features = test_features.reshape(len(test_features), -1)"
   ]
  },
  {
   "cell_type": "code",
   "execution_count": 27,
   "metadata": {},
   "outputs": [
    {
     "name": "stderr",
     "output_type": "stream",
     "text": [
      "100%|██████████| 1/1 [00:00<00:00, 23.97it/s]\n",
      "100%|██████████| 1/1 [00:00<00:00,  7.59it/s]\n"
     ]
    },
    {
     "name": "stdout",
     "output_type": "stream",
     "text": [
      "Train MSE: 0.9980\n"
     ]
    }
   ],
   "source": [
    "\n",
    "knn_manager = KNNManager(n_neighbors=1)\n",
    "knn_manager.train(features, train_labels)\n",
    "dnn_manager = DNNManager(\n",
    "    input_dim=CONDITION_DIM, \n",
    "    output_dim=OUTPUT_DIM, \n",
    "    batch_size=BATCH_SIZE, \n",
    "    num_epochs=NUM_EPOCHS,\n",
    "    lr=3e-4,\n",
    "    betas=(.5, 0.999)\n",
    ")\n",
    "dnn_manager.train(features, train_labels, verbose=1)\n",
    "\n",
    "gan_manager = GANManager(\n",
    "    noise_dim=NOISE_DIM,\n",
    "    condition_dim=features.shape[-1],\n",
    "    output_dim=train_labels.shape[1],\n",
    "    batch_size=BATCH_SIZE,\n",
    "    num_epochs=NUM_EPOCHS,\n",
    "    lr=0.0002,\n",
    "    betas = (.5, 0.999),\n",
    ")\n",
    "gan_manager.train(features, train_labels, verbose=1)\n",
    "\n",
    "rf_manager = RandomForestManager()\n",
    "rf_manager.train(features, train_labels)\n",
    "\n",
    "knn_manager = KNNManager(n_neighbors=1)\n",
    "knn_manager.train(features, train_labels)\n"
   ]
  },
  {
   "cell_type": "code",
   "execution_count": 28,
   "metadata": {},
   "outputs": [],
   "source": [
    "\n",
    "gan_output = gan_manager.predict(test_features).reshape(\n",
    "    len(test_features), WIDTH, HEIGHT\n",
    ")\n",
    "gan_output[gan_output < 0] = 0\n",
    "dnn_output = dnn_manager.predict(test_features).reshape(\n",
    "    len(test_features), WIDTH, HEIGHT\n",
    ")\n",
    "dnn_output[dnn_output < 0] = 0\n",
    "rf_output = rf_manager.predict(test_features).reshape(\n",
    "    len(test_features), WIDTH, HEIGHT\n",
    ")\n",
    "knn_output = knn_manager.predict(test_features).reshape(\n",
    "    len(test_features), WIDTH, HEIGHT\n",
    ")\n"
   ]
  },
  {
   "cell_type": "code",
   "execution_count": 29,
   "metadata": {},
   "outputs": [
    {
     "name": "stdout",
     "output_type": "stream",
     "text": [
      "  Model  Jensen-Shannon Divergence      RMSE  \\\n",
      "0   GAN                   0.652091  0.160944   \n",
      "1   DNN                   0.645012  0.125711   \n",
      "2    RF                   0.406379  0.031906   \n",
      "3   KNN                   0.420430  0.033988   \n",
      "\n",
      "                                     Filtered Output  \n",
      "0  [[[0.017950632, 0.042251308, 0.09515086, 0.121...  \n",
      "1  [[[0.08780075, 0.13276954, 0.1299285, 0.123073...  \n",
      "2  [[[0.0, 0.0, 0.0, 0.0, 0.0, 0.0, 0.0, 0.0, 0.0...  \n",
      "3  [[[0.0, 0.0, 0.0, 0.0, 0.0, 0.0, 0.0, 0.0, 0.0...  \n"
     ]
    }
   ],
   "source": [
    "\n",
    "SIGMA = 1\n",
    "# Apply Gaussian filter to each 2D image in a set of images\n",
    "def apply_gaussian(images, sigma):\n",
    "    # images: numpy array with shape (n_samples, height, width)\n",
    "    return np.array([gaussian_filter(img, sigma=sigma) for img in images])\n",
    "\n",
    "# Apply filter to each model's output\n",
    "gan_filtered = apply_gaussian(gan_output, sigma=SIGMA)\n",
    "dnn_filtered = apply_gaussian(dnn_output, sigma=SIGMA)\n",
    "rf_filtered  = apply_gaussian(rf_output, sigma=SIGMA)\n",
    "knn_filtered = apply_gaussian(knn_output, sigma=SIGMA)\n",
    "act = x + y\n",
    "act = act[:, 0, :]\n",
    "# Ensure the ground truth 'act' is filtered per image (if not already)\n",
    "act_filtered = np.array([gaussian_filter(img, sigma=SIGMA) for img in act])\n",
    "\n",
    "\n",
    "# Calculate average metrics for each model\n",
    "jsd_gan = np.mean([compute_jsd(act_filtered[i], gan_filtered[i]) for i in range(len(act_filtered))])\n",
    "jsd_dnn = np.mean([compute_jsd(act_filtered[i], dnn_filtered[i]) for i in range(len(act_filtered))])\n",
    "jsd_rf  = np.mean([compute_jsd(act_filtered[i], rf_filtered[i]) for i in range(len(act_filtered))])\n",
    "jsd_knn = np.mean([compute_jsd(act_filtered[i], knn_filtered[i]) for i in range(len(act_filtered))])\n",
    "\n",
    "rmse_gan = np.mean([compute_rmse(act_filtered[i], gan_filtered[i]) for i in range(len(act_filtered))])\n",
    "rmse_dnn = np.mean([compute_rmse(act_filtered[i], dnn_filtered[i]) for i in range(len(act_filtered))])\n",
    "rmse_rf  = np.mean([compute_rmse(act_filtered[i], rf_filtered[i]) for i in range(len(act_filtered))])\n",
    "rmse_knn = np.mean([compute_rmse(act_filtered[i], knn_filtered[i]) for i in range(len(act_filtered))])\n",
    "\n",
    "# Create a DataFrame to store the evaluation metrics\n",
    "results_df = pd.DataFrame({\n",
    "    \"Model\": [\"GAN\", \"DNN\", \"RF\", \"KNN\"],\n",
    "    \"Jensen-Shannon Divergence\": [jsd_gan, jsd_dnn, jsd_rf, jsd_knn],\n",
    "    \"RMSE\": [rmse_gan, rmse_dnn, rmse_rf, rmse_knn],\n",
    "    \"Filtered Output\": [gan_filtered, dnn_filtered, rf_filtered, knn_filtered]\n",
    "})\n",
    "\n",
    "print(results_df)\n"
   ]
  },
  {
   "cell_type": "code",
   "execution_count": 30,
   "metadata": {},
   "outputs": [
    {
     "data": {
      "text/html": [
       "<div>\n",
       "<style scoped>\n",
       "    .dataframe tbody tr th:only-of-type {\n",
       "        vertical-align: middle;\n",
       "    }\n",
       "\n",
       "    .dataframe tbody tr th {\n",
       "        vertical-align: top;\n",
       "    }\n",
       "\n",
       "    .dataframe thead th {\n",
       "        text-align: right;\n",
       "    }\n",
       "</style>\n",
       "<table border=\"1\" class=\"dataframe\">\n",
       "  <thead>\n",
       "    <tr style=\"text-align: right;\">\n",
       "      <th></th>\n",
       "      <th>Model</th>\n",
       "      <th>Jensen-Shannon Divergence</th>\n",
       "      <th>RMSE</th>\n",
       "    </tr>\n",
       "  </thead>\n",
       "  <tbody>\n",
       "    <tr>\n",
       "      <th>0</th>\n",
       "      <td>GAN</td>\n",
       "      <td>0.652091</td>\n",
       "      <td>0.160944</td>\n",
       "    </tr>\n",
       "    <tr>\n",
       "      <th>1</th>\n",
       "      <td>DNN</td>\n",
       "      <td>0.645012</td>\n",
       "      <td>0.125711</td>\n",
       "    </tr>\n",
       "    <tr>\n",
       "      <th>2</th>\n",
       "      <td>RF</td>\n",
       "      <td>0.406379</td>\n",
       "      <td>0.031906</td>\n",
       "    </tr>\n",
       "    <tr>\n",
       "      <th>3</th>\n",
       "      <td>KNN</td>\n",
       "      <td>0.420430</td>\n",
       "      <td>0.033988</td>\n",
       "    </tr>\n",
       "  </tbody>\n",
       "</table>\n",
       "</div>"
      ],
      "text/plain": [
       "  Model  Jensen-Shannon Divergence      RMSE\n",
       "0   GAN                   0.652091  0.160944\n",
       "1   DNN                   0.645012  0.125711\n",
       "2    RF                   0.406379  0.031906\n",
       "3   KNN                   0.420430  0.033988"
      ]
     },
     "execution_count": 30,
     "metadata": {},
     "output_type": "execute_result"
    }
   ],
   "source": [
    "results_df.drop([\"Filtered Output\"], axis=1)"
   ]
  }
 ],
 "metadata": {
  "kernelspec": {
   "display_name": "base",
   "language": "python",
   "name": "python3"
  },
  "language_info": {
   "codemirror_mode": {
    "name": "ipython",
    "version": 3
   },
   "file_extension": ".py",
   "mimetype": "text/x-python",
   "name": "python",
   "nbconvert_exporter": "python",
   "pygments_lexer": "ipython3",
   "version": "3.11.5"
  }
 },
 "nbformat": 4,
 "nbformat_minor": 2
}
