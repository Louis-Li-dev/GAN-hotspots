{
 "cells": [
  {
   "cell_type": "code",
   "execution_count": 30,
   "metadata": {},
   "outputs": [],
   "source": [
    "import os\n",
    "import sys\n",
    "parent_dir = os.path.join(os.getcwd(), '..')\n",
    "if parent_dir not in sys.path: sys.path.append(parent_dir)\n",
    "from utility.data_utils import *\n",
    "from utility.visuals import *\n",
    "from model.dimensional_reduction import *\n",
    "from model.gans import *\n",
    "from model.rf import *\n",
    "from model.dnn import *\n",
    "from model.knn import *\n",
    "from dotenv import load_dotenv\n",
    "from sklearn.model_selection import train_test_split"
   ]
  },
  {
   "cell_type": "code",
   "execution_count": 31,
   "metadata": {},
   "outputs": [],
   "source": [
    "load_dotenv()\n",
    "DATA_DIR = os.getenv(\"DATA_DIR\")\n",
    "PCA_N_COMPONENTS = float(os.getenv(\"PCA_N_COMPONENTS\"))\n",
    "NOISE_DIM = int(os.getenv(\"NOISE_DIM\"))\n",
    "BATCH_SIZE = int(os.getenv(\"BATCH_SIZE\"))\n",
    "NUM_EPOCHS = int(os.getenv(\"NUM_EPOCHS\"))\n",
    "NUM_EPOCHS = 100"
   ]
  },
  {
   "cell_type": "code",
   "execution_count": 32,
   "metadata": {},
   "outputs": [
    {
     "name": "stdout",
     "output_type": "stream",
     "text": [
      "original dataset size: 238\n",
      "dataset size with duplicates removed: 172\n"
     ]
    }
   ],
   "source": [
    "files = get_files(DATA_DIR)\n",
    "file = files[0]\n",
    "city_name = file.split('\\\\')[-1].split('.csv')[0].split('_')[0]\n",
    "\n",
    "path_name = process_and_transform_data(file, resolution=.5, overwrite=True)\n",
    "with open(path_name, 'rb') as f:\n",
    "    result_dict = pickle.load(f)\n",
    "labels = result_dict['labels']\n",
    "encoder = result_dict['encoder']\n",
    "MAX_LEN = result_dict['max length']\n",
    "file_name = result_dict['file name']\n",
    "WIDTH = result_dict['width']\n",
    "HEIGHT = result_dict['height']\n",
    "unique_labels = [u for u in labels if np.array(np.where(u != 0)).T.shape[0] > 1]\n",
    "train_labels, test_labels = train_test_split(np.expand_dims(np.array(unique_labels), axis=1), test_size=.2)\n",
    "pca = PCATransformer(n_components=PCA_N_COMPONENTS)\n",
    "transformed = pca.fit_and_predict(\n",
    "    train_labels.reshape(train_labels.shape[0], -1)\n",
    ")\n",
    "knn = KNNFeaturesExtractor()\n",
    "knn.fit(transformed)\n",
    "features = knn.predict(transformed)\n",
    "features = features.reshape(len(features), -1)"
   ]
  },
  {
   "cell_type": "code",
   "execution_count": 33,
   "metadata": {},
   "outputs": [],
   "source": [
    "OUTPUT_DIM = transformed.shape[1]\n",
    "CONDITION_DIM = features.shape[-1]\n",
    "x, y, _, _ = get_x_y(test_labels, MAX_LEN=MAX_LEN, encoder=encoder)\n",
    "x = np.array(x)\n",
    "y = np.array(y)\n",
    "test_pca = PCATransformer(n_components=transformed.shape[-1])\n",
    "test_transformed = test_pca.fit_and_predict(\n",
    "    x.reshape(x.shape[0], -1)\n",
    ")\n",
    "test_features = knn.predict(test_transformed)\n",
    "test_features = test_features.reshape(len(test_features), -1)"
   ]
  },
  {
   "cell_type": "code",
   "execution_count": 34,
   "metadata": {},
   "outputs": [
    {
     "name": "stderr",
     "output_type": "stream",
     "text": [
      "100%|██████████| 100/100 [00:04<00:00, 22.11it/s]\n"
     ]
    }
   ],
   "source": [
    "dnn_manager = DNNManager(\n",
    "    input_dim=CONDITION_DIM, \n",
    "    output_dim=OUTPUT_DIM, \n",
    "    batch_size=BATCH_SIZE, \n",
    "    num_epochs=NUM_EPOCHS,\n",
    "    lr=3e-4,\n",
    "    betas=(.5, 0.999)\n",
    ")\n",
    "dnn_manager.train(features, transformed, verbose=1)"
   ]
  },
  {
   "cell_type": "code",
   "execution_count": 35,
   "metadata": {},
   "outputs": [
    {
     "name": "stderr",
     "output_type": "stream",
     "text": [
      "100%|██████████| 100/100 [00:12<00:00,  8.01it/s]\n"
     ]
    }
   ],
   "source": [
    "gan_manager = GANManager(\n",
    "    noise_dim=NOISE_DIM,\n",
    "    condition_dim=features.shape[-1],\n",
    "    output_dim=transformed.shape[1],\n",
    "    batch_size=BATCH_SIZE,\n",
    "    num_epochs=NUM_EPOCHS,\n",
    "    lr=0.0002,\n",
    "    betas = (.5, 0.999),\n",
    ")\n",
    "gan_manager.train(features, transformed, verbose=1)\n"
   ]
  },
  {
   "cell_type": "code",
   "execution_count": 36,
   "metadata": {},
   "outputs": [
    {
     "name": "stdout",
     "output_type": "stream",
     "text": [
      "Train MSE: 0.8983\n"
     ]
    }
   ],
   "source": [
    "\n",
    "rf_manager = RandomForestManager()\n",
    "rf_manager.train(features, transformed)"
   ]
  },
  {
   "cell_type": "code",
   "execution_count": 37,
   "metadata": {},
   "outputs": [
    {
     "name": "stdout",
     "output_type": "stream",
     "text": [
      "KNN model trained successfully.\n"
     ]
    }
   ],
   "source": [
    "knn_manager = KNNManager(n_neighbors=1)\n",
    "knn_manager.train(features, transformed)"
   ]
  },
  {
   "cell_type": "code",
   "execution_count": 38,
   "metadata": {},
   "outputs": [],
   "source": [
    "gan_output = gan_manager.predict(test_features)\n",
    "gan_output_shaped = test_pca.predict(gan_output, inverse=True)\\\n",
    "    .reshape(len(gan_output), x.shape[-2], x.shape[-1])\n",
    "gan_output_shaped[gan_output_shaped < 0] = 0\n",
    "\n",
    "\n",
    "dnn_output = dnn_manager.predict(test_features)\n",
    "dnn_output_shaped = test_pca.predict(dnn_output, inverse=True)\\\n",
    "    .reshape(len(dnn_output), x.shape[-2], x.shape[-1])\n",
    "dnn_output_shaped[dnn_output_shaped < 0] = 0\n",
    "\n",
    "rf_output = rf_manager.predict(test_features)\n",
    "rf_output_shaped = test_pca.predict(rf_output, inverse=True)\\\n",
    "    .reshape(len(rf_output), x.shape[-2], x.shape[-1])\n",
    "rf_output_shaped[rf_output_shaped < 0] = 0\n",
    "\n",
    "\n",
    "\n",
    "knn_output = knn_manager.predict(test_features)\n",
    "knn_output_shaped = test_pca.predict(knn_output, inverse=True)\\\n",
    "    .reshape(len(knn_output), x.shape[-2], x.shape[-1])\n",
    "knn_output_shaped[knn_output_shaped < 0] = 0"
   ]
  },
  {
   "cell_type": "code",
   "execution_count": 39,
   "metadata": {},
   "outputs": [
    {
     "data": {
      "text/plain": [
       "array([[[0.09860832, 0.18833384, 0.        , ..., 0.        ,\n",
       "         0.        , 0.        ],\n",
       "        [0.        , 0.        , 0.        , ..., 0.        ,\n",
       "         0.        , 0.        ],\n",
       "        [0.        , 0.        , 0.        , ..., 0.        ,\n",
       "         0.        , 0.        ],\n",
       "        ...,\n",
       "        [0.        , 0.        , 0.        , ..., 0.        ,\n",
       "         0.        , 0.        ],\n",
       "        [0.        , 0.        , 0.        , ..., 0.        ,\n",
       "         0.        , 0.        ],\n",
       "        [0.        , 0.        , 0.        , ..., 0.        ,\n",
       "         0.        , 0.        ]],\n",
       "\n",
       "       [[0.13060536, 0.27611851, 0.        , ..., 0.        ,\n",
       "         0.        , 0.        ],\n",
       "        [0.        , 0.        , 0.        , ..., 0.        ,\n",
       "         0.        , 0.        ],\n",
       "        [0.        , 0.        , 0.        , ..., 0.        ,\n",
       "         0.        , 0.        ],\n",
       "        ...,\n",
       "        [0.        , 0.        , 0.        , ..., 0.        ,\n",
       "         0.        , 0.        ],\n",
       "        [0.        , 0.        , 0.        , ..., 0.        ,\n",
       "         0.        , 0.        ],\n",
       "        [0.        , 0.        , 0.        , ..., 0.        ,\n",
       "         0.        , 0.        ]],\n",
       "\n",
       "       [[0.0039529 , 0.10592992, 0.10362205, ..., 0.        ,\n",
       "         0.        , 0.        ],\n",
       "        [0.        , 0.        , 0.        , ..., 0.        ,\n",
       "         0.        , 0.        ],\n",
       "        [0.        , 0.        , 0.        , ..., 0.        ,\n",
       "         0.        , 0.        ],\n",
       "        ...,\n",
       "        [0.        , 0.        , 0.        , ..., 0.        ,\n",
       "         0.        , 0.        ],\n",
       "        [0.        , 0.        , 0.        , ..., 0.        ,\n",
       "         0.        , 0.        ],\n",
       "        [0.        , 0.        , 0.        , ..., 0.        ,\n",
       "         0.        , 0.        ]],\n",
       "\n",
       "       ...,\n",
       "\n",
       "       [[0.        , 0.1178085 , 0.        , ..., 0.        ,\n",
       "         0.        , 0.        ],\n",
       "        [0.        , 0.        , 0.        , ..., 0.        ,\n",
       "         0.        , 0.        ],\n",
       "        [0.        , 0.        , 0.        , ..., 0.        ,\n",
       "         0.        , 0.        ],\n",
       "        ...,\n",
       "        [0.        , 0.        , 0.        , ..., 0.        ,\n",
       "         0.        , 0.        ],\n",
       "        [0.        , 0.        , 0.        , ..., 0.        ,\n",
       "         0.        , 0.        ],\n",
       "        [0.        , 0.        , 0.        , ..., 0.        ,\n",
       "         0.        , 0.        ]],\n",
       "\n",
       "       [[0.04702398, 0.16424265, 0.        , ..., 0.        ,\n",
       "         0.        , 0.        ],\n",
       "        [0.        , 0.        , 0.        , ..., 0.        ,\n",
       "         0.        , 0.        ],\n",
       "        [0.        , 0.        , 0.        , ..., 0.        ,\n",
       "         0.        , 0.        ],\n",
       "        ...,\n",
       "        [0.        , 0.        , 0.        , ..., 0.        ,\n",
       "         0.        , 0.        ],\n",
       "        [0.        , 0.        , 0.        , ..., 0.        ,\n",
       "         0.        , 0.        ],\n",
       "        [0.        , 0.        , 0.        , ..., 0.        ,\n",
       "         0.        , 0.        ]],\n",
       "\n",
       "       [[0.04570172, 0.11178249, 0.06327839, ..., 0.        ,\n",
       "         0.        , 0.        ],\n",
       "        [0.        , 0.        , 0.        , ..., 0.        ,\n",
       "         0.        , 0.        ],\n",
       "        [0.        , 0.        , 0.        , ..., 0.        ,\n",
       "         0.        , 0.        ],\n",
       "        ...,\n",
       "        [0.        , 0.        , 0.        , ..., 0.        ,\n",
       "         0.        , 0.        ],\n",
       "        [0.        , 0.        , 0.        , ..., 0.        ,\n",
       "         0.        , 0.        ],\n",
       "        [0.        , 0.        , 0.        , ..., 0.        ,\n",
       "         0.        , 0.        ]]])"
      ]
     },
     "execution_count": 39,
     "metadata": {},
     "output_type": "execute_result"
    }
   ],
   "source": [
    "knn_output_shaped"
   ]
  }
 ],
 "metadata": {
  "kernelspec": {
   "display_name": "base",
   "language": "python",
   "name": "python3"
  },
  "language_info": {
   "codemirror_mode": {
    "name": "ipython",
    "version": 3
   },
   "file_extension": ".py",
   "mimetype": "text/x-python",
   "name": "python",
   "nbconvert_exporter": "python",
   "pygments_lexer": "ipython3",
   "version": "3.11.5"
  }
 },
 "nbformat": 4,
 "nbformat_minor": 2
}
